{
  "nbformat": 4,
  "nbformat_minor": 0,
  "metadata": {
    "colab": {
      "name": "Logistic regression using pytorch practice1",
      "provenance": [],
      "authorship_tag": "ABX9TyPoUIIQhmG+Q5K4UoJo1HPK",
      "include_colab_link": true
    },
    "kernelspec": {
      "name": "python3",
      "display_name": "Python 3"
    },
    "accelerator": "GPU"
  },
  "cells": [
    {
      "cell_type": "markdown",
      "metadata": {
        "id": "view-in-github",
        "colab_type": "text"
      },
      "source": [
        "<a href=\"https://colab.research.google.com/github/adityachoudharyclg/pytorchBasics/blob/master/Logistic_regression_using_pytorch_practice1.ipynb\" target=\"_parent\"><img src=\"https://colab.research.google.com/assets/colab-badge.svg\" alt=\"Open In Colab\"/></a>"
      ]
    },
    {
      "cell_type": "code",
      "metadata": {
        "id": "-EKUnq9OoSnP",
        "colab_type": "code",
        "colab": {}
      },
      "source": [
        "import torch\n",
        "import torchvision\n",
        "from torchvision.datasets import MNIST\n",
        "import torchvision.transforms as transforms"
      ],
      "execution_count": 0,
      "outputs": []
    },
    {
      "cell_type": "code",
      "metadata": {
        "id": "S96ErTIVooCP",
        "colab_type": "code",
        "colab": {}
      },
      "source": [
        "dataset = MNIST(root='data/', \n",
        "                train=True,\n",
        "                transform=transforms.ToTensor(),download=True)"
      ],
      "execution_count": 0,
      "outputs": []
    },
    {
      "cell_type": "code",
      "metadata": {
        "id": "dg-8yntjp3Ek",
        "colab_type": "code",
        "colab": {}
      },
      "source": [
        "test_dataset=MNIST(root='data/', \n",
        "                train=False,\n",
        "                transform=transforms.ToTensor())"
      ],
      "execution_count": 0,
      "outputs": []
    },
    {
      "cell_type": "code",
      "metadata": {
        "id": "XXU6tXCrqKbT",
        "colab_type": "code",
        "colab": {
          "base_uri": "https://localhost:8080/",
          "height": 34
        },
        "outputId": "7ef521ae-765a-4042-900d-9979bb3841c2"
      },
      "source": [
        "len(test_dataset)"
      ],
      "execution_count": 4,
      "outputs": [
        {
          "output_type": "execute_result",
          "data": {
            "text/plain": [
              "10000"
            ]
          },
          "metadata": {
            "tags": []
          },
          "execution_count": 4
        }
      ]
    },
    {
      "cell_type": "code",
      "metadata": {
        "id": "9Q0gcYh_qMWE",
        "colab_type": "code",
        "colab": {}
      },
      "source": [
        "# For splitting data\n",
        "from torch.utils.data import random_split\n",
        "train_ds,val_ds=random_split(dataset,[50000,10000])"
      ],
      "execution_count": 0,
      "outputs": []
    },
    {
      "cell_type": "code",
      "metadata": {
        "id": "aaDwrDAHqlhd",
        "colab_type": "code",
        "colab": {}
      },
      "source": [
        "# Loading data\n",
        "from torch.utils.data import DataLoader\n",
        "train_loader=DataLoader(train_ds,batch_size=256,shuffle=True)\n",
        "val_loader=DataLoader(val_ds,batch_size=256)"
      ],
      "execution_count": 0,
      "outputs": []
    },
    {
      "cell_type": "code",
      "metadata": {
        "id": "oiEivuRDqmwV",
        "colab_type": "code",
        "colab": {
          "base_uri": "https://localhost:8080/",
          "height": 34
        },
        "outputId": "d00e5a30-8df5-4feb-bedf-5d396a403497"
      },
      "source": [
        "for xb,yb in train_loader:\n",
        "  print(xb.shape)\n",
        "  break"
      ],
      "execution_count": 7,
      "outputs": [
        {
          "output_type": "stream",
          "text": [
            "torch.Size([256, 1, 28, 28])\n"
          ],
          "name": "stdout"
        }
      ]
    },
    {
      "cell_type": "code",
      "metadata": {
        "id": "wYjimzOrrUoI",
        "colab_type": "code",
        "colab": {}
      },
      "source": [
        "import torch.nn as nn"
      ],
      "execution_count": 0,
      "outputs": []
    },
    {
      "cell_type": "code",
      "metadata": {
        "id": "jbJvxnjerm1e",
        "colab_type": "code",
        "colab": {}
      },
      "source": [
        "input_size=28*28\n",
        "num_classes=10\n",
        "model=nn.Linear(input_size,num_classes)"
      ],
      "execution_count": 0,
      "outputs": []
    },
    {
      "cell_type": "code",
      "metadata": {
        "id": "4Fx3acLVrv9E",
        "colab_type": "code",
        "colab": {
          "base_uri": "https://localhost:8080/",
          "height": 202
        },
        "outputId": "4c8d6c79-993c-4cad-a603-cb5971acfa43"
      },
      "source": [
        "list(model.parameters())"
      ],
      "execution_count": 10,
      "outputs": [
        {
          "output_type": "execute_result",
          "data": {
            "text/plain": [
              "[Parameter containing:\n",
              " tensor([[-0.0034,  0.0141,  0.0047,  ...,  0.0257, -0.0086, -0.0223],\n",
              "         [ 0.0314, -0.0155, -0.0005,  ...,  0.0212, -0.0030, -0.0020],\n",
              "         [ 0.0031, -0.0126,  0.0039,  ...,  0.0343, -0.0326,  0.0116],\n",
              "         ...,\n",
              "         [-0.0254, -0.0204,  0.0070,  ...,  0.0205,  0.0005,  0.0073],\n",
              "         [ 0.0049,  0.0290,  0.0263,  ...,  0.0121,  0.0325, -0.0127],\n",
              "         [ 0.0139,  0.0185,  0.0053,  ...,  0.0133, -0.0200, -0.0086]],\n",
              "        requires_grad=True), Parameter containing:\n",
              " tensor([ 0.0264, -0.0301,  0.0125, -0.0070, -0.0073,  0.0101, -0.0349, -0.0103,\n",
              "          0.0060,  0.0002], requires_grad=True)]"
            ]
          },
          "metadata": {
            "tags": []
          },
          "execution_count": 10
        }
      ]
    },
    {
      "cell_type": "code",
      "metadata": {
        "id": "S1uj8TZQr7ah",
        "colab_type": "code",
        "colab": {
          "base_uri": "https://localhost:8080/",
          "height": 185
        },
        "outputId": "9c6a772f-d74b-4559-df3c-d27cc0e29fac"
      },
      "source": [
        "# O/P function\n",
        "import torch.nn.functional as F\n",
        "\n",
        "for tensor,label in val_loader:\n",
        "  tensor=tensor.reshape(-1,784)\n",
        "  print(tensor.shape)\n",
        "  outputs=model(tensor)\n",
        "  break\n",
        "\n",
        "probs=F.softmax(outputs,dim=1)\n",
        "print(probs)\n",
        "print(\"Sum:\",torch.sum(probs[0]).item())"
      ],
      "execution_count": 11,
      "outputs": [
        {
          "output_type": "stream",
          "text": [
            "torch.Size([256, 784])\n",
            "tensor([[0.1142, 0.1048, 0.0779,  ..., 0.1113, 0.0982, 0.0803],\n",
            "        [0.0903, 0.0802, 0.0659,  ..., 0.1149, 0.1171, 0.0846],\n",
            "        [0.1012, 0.1225, 0.0527,  ..., 0.0998, 0.1001, 0.0715],\n",
            "        ...,\n",
            "        [0.1033, 0.1166, 0.0926,  ..., 0.0991, 0.0960, 0.0927],\n",
            "        [0.0866, 0.1142, 0.0734,  ..., 0.0916, 0.0839, 0.0975],\n",
            "        [0.1024, 0.1035, 0.0729,  ..., 0.0996, 0.0883, 0.0920]],\n",
            "       grad_fn=<SoftmaxBackward>)\n",
            "Sum: 0.9999998807907104\n"
          ],
          "name": "stdout"
        }
      ]
    },
    {
      "cell_type": "code",
      "metadata": {
        "id": "AkRGzRAhs4LM",
        "colab_type": "code",
        "colab": {
          "base_uri": "https://localhost:8080/",
          "height": 689
        },
        "outputId": "eb770240-0294-4882-d939-ad989535c0fb"
      },
      "source": [
        "max_probs,preds=torch.max(probs,dim=1)\n",
        "print(preds)\n",
        "print(max_probs)"
      ],
      "execution_count": 12,
      "outputs": [
        {
          "output_type": "stream",
          "text": [
            "tensor([3, 5, 5, 8, 6, 3, 0, 5, 0, 7, 5, 7, 5, 6, 1, 4, 7, 7, 7, 7, 6, 9, 5, 0,\n",
            "        3, 5, 1, 3, 1, 7, 6, 5, 1, 5, 1, 6, 4, 5, 5, 7, 5, 7, 7, 5, 5, 5, 8, 5,\n",
            "        5, 5, 0, 6, 5, 5, 1, 5, 3, 5, 3, 1, 3, 5, 3, 3, 5, 5, 7, 5, 5, 7, 9, 6,\n",
            "        4, 1, 0, 1, 6, 4, 7, 7, 7, 7, 5, 6, 7, 3, 8, 5, 5, 3, 7, 5, 7, 3, 7, 1,\n",
            "        3, 5, 5, 1, 7, 0, 7, 3, 6, 3, 7, 8, 7, 7, 7, 7, 3, 6, 3, 4, 3, 7, 1, 6,\n",
            "        7, 7, 7, 7, 7, 7, 3, 6, 5, 7, 5, 5, 8, 1, 5, 6, 7, 1, 6, 5, 8, 7, 3, 7,\n",
            "        4, 7, 1, 6, 3, 5, 1, 0, 7, 7, 4, 4, 3, 5, 7, 5, 5, 1, 5, 6, 5, 5, 5, 6,\n",
            "        7, 7, 3, 4, 3, 5, 4, 5, 4, 3, 6, 4, 6, 7, 3, 1, 4, 4, 3, 1, 5, 1, 7, 4,\n",
            "        7, 7, 1, 6, 3, 0, 5, 3, 5, 6, 4, 1, 6, 4, 6, 5, 4, 5, 5, 5, 0, 7, 3, 4,\n",
            "        7, 3, 6, 7, 0, 6, 5, 1, 6, 7, 1, 7, 7, 8, 5, 5, 4, 5, 3, 7, 7, 5, 3, 5,\n",
            "        3, 7, 3, 0, 5, 1, 1, 5, 6, 5, 5, 7, 1, 1, 5, 5])\n",
            "tensor([0.1197, 0.1590, 0.1557, 0.1129, 0.1408, 0.1204, 0.1146, 0.1115, 0.1206,\n",
            "        0.1366, 0.1447, 0.1367, 0.1298, 0.1208, 0.1260, 0.1208, 0.1412, 0.1373,\n",
            "        0.1378, 0.1315, 0.1205, 0.1178, 0.1278, 0.1090, 0.1183, 0.1307, 0.1439,\n",
            "        0.1311, 0.1169, 0.1253, 0.1436, 0.1266, 0.1312, 0.1268, 0.1298, 0.1267,\n",
            "        0.1217, 0.1391, 0.1106, 0.1389, 0.1412, 0.1193, 0.1183, 0.1449, 0.1374,\n",
            "        0.1209, 0.1168, 0.1419, 0.1142, 0.1189, 0.1163, 0.1229, 0.1556, 0.1500,\n",
            "        0.1359, 0.1338, 0.1244, 0.1393, 0.1187, 0.1235, 0.1266, 0.1298, 0.1176,\n",
            "        0.1455, 0.1205, 0.1227, 0.1352, 0.1421, 0.1136, 0.1265, 0.1228, 0.1347,\n",
            "        0.1192, 0.1337, 0.1221, 0.1227, 0.1321, 0.1212, 0.1352, 0.1207, 0.1509,\n",
            "        0.1326, 0.1327, 0.1289, 0.1196, 0.1213, 0.1157, 0.1404, 0.1554, 0.1317,\n",
            "        0.1302, 0.1527, 0.1256, 0.1270, 0.1399, 0.1127, 0.1323, 0.1239, 0.1243,\n",
            "        0.1395, 0.1416, 0.1162, 0.1373, 0.1124, 0.1185, 0.1264, 0.1227, 0.1218,\n",
            "        0.1173, 0.1326, 0.1439, 0.1336, 0.1538, 0.1304, 0.1375, 0.1126, 0.1284,\n",
            "        0.1486, 0.1187, 0.1238, 0.1178, 0.1602, 0.1358, 0.1413, 0.1350, 0.1220,\n",
            "        0.1173, 0.1205, 0.1446, 0.1195, 0.1401, 0.1142, 0.1109, 0.1219, 0.1451,\n",
            "        0.1337, 0.1239, 0.1329, 0.1215, 0.1377, 0.1271, 0.1289, 0.1233, 0.1280,\n",
            "        0.1265, 0.1172, 0.1291, 0.1257, 0.1293, 0.1203, 0.1385, 0.1183, 0.1169,\n",
            "        0.1360, 0.1231, 0.1267, 0.1267, 0.1337, 0.1244, 0.1321, 0.1434, 0.1146,\n",
            "        0.1228, 0.1363, 0.1432, 0.1440, 0.1229, 0.1311, 0.1255, 0.1334, 0.1518,\n",
            "        0.1222, 0.1214, 0.1540, 0.1270, 0.1705, 0.1297, 0.1294, 0.1284, 0.1253,\n",
            "        0.1269, 0.1156, 0.1384, 0.1227, 0.1190, 0.1099, 0.1331, 0.1216, 0.1213,\n",
            "        0.1338, 0.1485, 0.1294, 0.1422, 0.1290, 0.1241, 0.1436, 0.1243, 0.1242,\n",
            "        0.1328, 0.1217, 0.1372, 0.1252, 0.1227, 0.1237, 0.1221, 0.1205, 0.1130,\n",
            "        0.1279, 0.1181, 0.1305, 0.1184, 0.1233, 0.1230, 0.1197, 0.1297, 0.1154,\n",
            "        0.1315, 0.1176, 0.1231, 0.1186, 0.1228, 0.1391, 0.1428, 0.1233, 0.1151,\n",
            "        0.1222, 0.1293, 0.1281, 0.1376, 0.1389, 0.1299, 0.1527, 0.1172, 0.1350,\n",
            "        0.1219, 0.1369, 0.1226, 0.1404, 0.1296, 0.1201, 0.1276, 0.1193, 0.1339,\n",
            "        0.1175, 0.1277, 0.1349, 0.1181, 0.1316, 0.1180, 0.1178, 0.1412, 0.1398,\n",
            "        0.1216, 0.1166, 0.1273, 0.1300], grad_fn=<MaxBackward0>)\n"
          ],
          "name": "stdout"
        }
      ]
    },
    {
      "cell_type": "code",
      "metadata": {
        "id": "nw2AiDq_vKd0",
        "colab_type": "code",
        "colab": {}
      },
      "source": [
        "def accuracy(outputs,labels):\n",
        "  _,preds=torch.max(outputs,dim=1)\n",
        "  return torch.tensor(torch.sum(preds==labels).item()/len(preds))"
      ],
      "execution_count": 0,
      "outputs": []
    },
    {
      "cell_type": "code",
      "metadata": {
        "id": "W-eJaURLvjvi",
        "colab_type": "code",
        "colab": {
          "base_uri": "https://localhost:8080/",
          "height": 34
        },
        "outputId": "7f63f777-6876-4621-ccc9-e37a164336db"
      },
      "source": [
        "accuracy(outputs,label)"
      ],
      "execution_count": 14,
      "outputs": [
        {
          "output_type": "execute_result",
          "data": {
            "text/plain": [
              "tensor(0.1133)"
            ]
          },
          "metadata": {
            "tags": []
          },
          "execution_count": 14
        }
      ]
    },
    {
      "cell_type": "code",
      "metadata": {
        "id": "ccx_uPAzvnSQ",
        "colab_type": "code",
        "colab": {}
      },
      "source": [
        "# Loss function\n",
        "loss_fn=F.cross_entropy"
      ],
      "execution_count": 0,
      "outputs": []
    },
    {
      "cell_type": "code",
      "metadata": {
        "id": "1qoSMUIJv82Z",
        "colab_type": "code",
        "colab": {
          "base_uri": "https://localhost:8080/",
          "height": 353
        },
        "outputId": "580a0911-38cc-4444-8b8a-1eb814c763c8"
      },
      "source": [
        "print(outputs,outputs.shape)\n",
        "print(label,label.shape)\n",
        "loss=loss_fn(outputs,label)\n",
        "print(loss)"
      ],
      "execution_count": 16,
      "outputs": [
        {
          "output_type": "stream",
          "text": [
            "tensor([[ 0.2092,  0.1236, -0.1734,  ...,  0.1839,  0.0584, -0.1425],\n",
            "        [-0.1456, -0.2644, -0.4601,  ...,  0.0949,  0.1142, -0.2104],\n",
            "        [ 0.1453,  0.3361, -0.5066,  ...,  0.1310,  0.1336, -0.2026],\n",
            "        ...,\n",
            "        [-0.0035,  0.1177, -0.1128,  ..., -0.0452, -0.0769, -0.1118],\n",
            "        [-0.0568,  0.2202, -0.2220,  ..., -0.0007, -0.0888,  0.0623],\n",
            "        [ 0.1314,  0.1424, -0.2075,  ...,  0.1038, -0.0166,  0.0249]],\n",
            "       grad_fn=<AddmmBackward>) torch.Size([256, 10])\n",
            "tensor([6, 3, 3, 6, 2, 4, 1, 1, 6, 9, 8, 9, 3, 2, 6, 7, 8, 4, 6, 9, 5, 9, 3, 5,\n",
            "        3, 5, 0, 9, 6, 0, 2, 7, 2, 5, 0, 9, 1, 3, 7, 2, 4, 0, 7, 4, 7, 7, 7, 3,\n",
            "        5, 8, 7, 9, 3, 3, 8, 2, 7, 3, 5, 3, 0, 4, 8, 8, 5, 1, 3, 3, 0, 9, 9, 3,\n",
            "        8, 8, 7, 1, 2, 1, 4, 9, 0, 4, 5, 2, 6, 8, 8, 3, 9, 8, 3, 3, 2, 3, 2, 6,\n",
            "        9, 3, 9, 9, 4, 6, 5, 6, 5, 7, 4, 7, 6, 9, 8, 6, 5, 8, 0, 7, 1, 0, 6, 2,\n",
            "        9, 0, 4, 9, 5, 7, 9, 1, 9, 0, 3, 5, 7, 1, 4, 3, 2, 2, 5, 6, 7, 2, 5, 4,\n",
            "        1, 0, 8, 6, 7, 2, 2, 9, 4, 9, 8, 1, 0, 3, 4, 2, 1, 1, 5, 9, 3, 8, 1, 1,\n",
            "        7, 9, 8, 1, 4, 8, 1, 3, 1, 8, 3, 1, 2, 6, 2, 1, 7, 7, 9, 1, 1, 2, 0, 1,\n",
            "        4, 8, 1, 2, 8, 3, 5, 0, 3, 2, 6, 7, 1, 7, 0, 3, 8, 4, 8, 6, 4, 9, 8, 6,\n",
            "        3, 7, 7, 9, 7, 2, 3, 2, 6, 9, 0, 3, 5, 6, 1, 3, 6, 3, 5, 9, 5, 3, 3, 5,\n",
            "        5, 7, 7, 1, 4, 2, 3, 2, 9, 8, 3, 4, 1, 1, 0, 6]) torch.Size([256])\n",
            "tensor(2.3409, grad_fn=<NllLossBackward>)\n"
          ],
          "name": "stdout"
        }
      ]
    },
    {
      "cell_type": "code",
      "metadata": {
        "id": "2UuF3yfqwBR5",
        "colab_type": "code",
        "colab": {}
      },
      "source": [
        "# Creating our model\n",
        "class MnistModel(nn.Module):\n",
        "    def __init__(self,input_size=784,num_classes=10):\n",
        "        super().__init__()\n",
        "        self.linear=nn.Linear(input_size,num_classes)\n",
        "        self.input_size=input_size\n",
        "        self.num_classes=num_classes\n",
        "    \n",
        "    def forward(self,xb):\n",
        "        xb=xb.reshape(-1,self.input_size)\n",
        "        out=self.linear(xb)\n",
        "        return out\n",
        "\n",
        "    def predictions(self,inputs):\n",
        "        outputs=self(inputs)\n",
        "        _,preds=torch.max(outputs,dim=1)\n",
        "        return preds\n",
        "    \n",
        "    def loss_func(self,outputs,labels):\n",
        "        lossFunc=F.cross_entropy\n",
        "        loss=lossFunc(outputs,labels)\n",
        "        return loss\n",
        "    \n",
        "    def accuracy(self,outputs,labels):\n",
        "        _,preds=torch.max(outputs,dim=1)\n",
        "        return torch.tensor(torch.sum(preds==labels).item()/len(preds))\n",
        "    \n",
        "    def fit(self,train_loader,val_loader,learning_rate=1e-3,num_epochs=10):\n",
        "        opt_func=torch.optim.SGD\n",
        "        optimizer=opt_func(self.parameters(),learning_rate)\n",
        "        for epoch in range(num_epochs):\n",
        "            # Training phase\n",
        "            for batch,labels in train_loader:\n",
        "                # Generate predictions\n",
        "                preds=self.predictions(batch)\n",
        "                # Calculate loss\n",
        "                loss=self.loss_func(self(batch),labels)\n",
        "                # Compute gradients\n",
        "                loss.backward()\n",
        "                # Update weights\n",
        "                optimizer.step()\n",
        "                # Reset gradients\n",
        "                optimizer.zero_grad()\n",
        "            \n",
        "            # Validation phase\n",
        "            for batch,labels in val_loader:\n",
        "                # Calculate loss\n",
        "                val_loss=self.loss_func(self(batch),labels)\n",
        "                # Calculate metrics (accuracy etc.)\n",
        "                val_acc=self.accuracy(self(batch),labels)\n",
        "            # Calculate average validation loss & metrics\n",
        "            \n",
        "            # Log epoch, loss & metrics for inspection\n",
        "            print(\"Epoch [{}/{}]: training_loss:{} val_loss:{} val_acc:{}\".format(epoch+1,num_epochs,loss,val_loss,val_acc))"
      ],
      "execution_count": 0,
      "outputs": []
    },
    {
      "cell_type": "code",
      "metadata": {
        "id": "hRjPcKEsyAEs",
        "colab_type": "code",
        "colab": {
          "base_uri": "https://localhost:8080/",
          "height": 50
        },
        "outputId": "18a9f6b4-f5c2-41a2-ce39-0fdb45781309"
      },
      "source": [
        "model=MnistModel()\n",
        "for tensors,labels in train_loader:\n",
        "    outputs=model(tensors)\n",
        "    print(model.predictions(tensors).shape)\n",
        "    # print(model.predictions(tensors),labels,labels.shape)\n",
        "    print(model.loss_func(outputs,labels))\n",
        "    break"
      ],
      "execution_count": 18,
      "outputs": [
        {
          "output_type": "stream",
          "text": [
            "torch.Size([256])\n",
            "tensor(2.2825, grad_fn=<NllLossBackward>)\n"
          ],
          "name": "stdout"
        }
      ]
    },
    {
      "cell_type": "code",
      "metadata": {
        "id": "qM9l13Ng6_mF",
        "colab_type": "code",
        "colab": {
          "base_uri": "https://localhost:8080/",
          "height": 185
        },
        "outputId": "bf36a5fb-d9ab-474b-c7be-c716adb609d6"
      },
      "source": [
        "model=MnistModel()\n",
        "model.fit(train_loader,val_loader)"
      ],
      "execution_count": 19,
      "outputs": [
        {
          "output_type": "stream",
          "text": [
            "Epoch [1/10]: training_loss:2.0976905822753906 val_loss:2.0302674770355225 val_acc:0.4375\n",
            "Epoch [2/10]: training_loss:1.9231141805648804 val_loss:1.836472511291504 val_acc:0.6875\n",
            "Epoch [3/10]: training_loss:1.7899360656738281 val_loss:1.6791718006134033 val_acc:0.8125\n",
            "Epoch [4/10]: training_loss:1.6092002391815186 val_loss:1.5507121086120605 val_acc:0.875\n",
            "Epoch [5/10]: training_loss:1.616206169128418 val_loss:1.4418944120407104 val_acc:0.875\n",
            "Epoch [6/10]: training_loss:1.4314583539962769 val_loss:1.349196195602417 val_acc:0.9375\n",
            "Epoch [7/10]: training_loss:1.3610963821411133 val_loss:1.2689852714538574 val_acc:0.9375\n",
            "Epoch [8/10]: training_loss:1.397282361984253 val_loss:1.2000732421875 val_acc:0.9375\n",
            "Epoch [9/10]: training_loss:1.1639893054962158 val_loss:1.138959288597107 val_acc:0.9375\n",
            "Epoch [10/10]: training_loss:1.1818493604660034 val_loss:1.0857354402542114 val_acc:0.9375\n"
          ],
          "name": "stdout"
        }
      ]
    },
    {
      "cell_type": "code",
      "metadata": {
        "id": "LW4gMrJq8WvR",
        "colab_type": "code",
        "colab": {}
      },
      "source": [
        "test_loader = DataLoader(test_dataset, batch_size=1024,shuffle=True)"
      ],
      "execution_count": 0,
      "outputs": []
    },
    {
      "cell_type": "code",
      "metadata": {
        "id": "i1Y1Lqn0-r2q",
        "colab_type": "code",
        "colab": {
          "base_uri": "https://localhost:8080/",
          "height": 185
        },
        "outputId": "54fb56a4-7958-4a18-847c-663fbe3b921c"
      },
      "source": [
        "for batch,labels in test_loader:\n",
        "    outputs=model(batch)\n",
        "    print(model.accuracy(outputs,labels))"
      ],
      "execution_count": 21,
      "outputs": [
        {
          "output_type": "stream",
          "text": [
            "tensor(0.8066)\n",
            "tensor(0.7891)\n",
            "tensor(0.7881)\n",
            "tensor(0.8076)\n",
            "tensor(0.8223)\n",
            "tensor(0.8037)\n",
            "tensor(0.7881)\n",
            "tensor(0.8086)\n",
            "tensor(0.7979)\n",
            "tensor(0.8074)\n"
          ],
          "name": "stdout"
        }
      ]
    },
    {
      "cell_type": "markdown",
      "metadata": {
        "id": "x4ekeFKM-s__",
        "colab_type": "text"
      },
      "source": [
        "Saving and loading model"
      ]
    },
    {
      "cell_type": "code",
      "metadata": {
        "id": "Ca46xcB7AB8Q",
        "colab_type": "code",
        "colab": {}
      },
      "source": [
        "torch.save(model.state_dict(), 'mnist-logistic.pth')"
      ],
      "execution_count": 0,
      "outputs": []
    },
    {
      "cell_type": "code",
      "metadata": {
        "id": "oFfxmbUSAMgy",
        "colab_type": "code",
        "colab": {
          "base_uri": "https://localhost:8080/",
          "height": 202
        },
        "outputId": "6f007717-472d-4cbb-b790-c6ef05c297bc"
      },
      "source": [
        "model.state_dict()"
      ],
      "execution_count": 23,
      "outputs": [
        {
          "output_type": "execute_result",
          "data": {
            "text/plain": [
              "OrderedDict([('linear.weight',\n",
              "              tensor([[-0.0268,  0.0080,  0.0026,  ..., -0.0208,  0.0218,  0.0320],\n",
              "                      [ 0.0155, -0.0259, -0.0220,  ..., -0.0042, -0.0157, -0.0138],\n",
              "                      [ 0.0338, -0.0210,  0.0151,  ..., -0.0036, -0.0123,  0.0329],\n",
              "                      ...,\n",
              "                      [-0.0254,  0.0350, -0.0345,  ...,  0.0065,  0.0355,  0.0218],\n",
              "                      [-0.0170, -0.0249, -0.0307,  ..., -0.0035, -0.0244,  0.0133],\n",
              "                      [-0.0345, -0.0149, -0.0307,  ...,  0.0337, -0.0264,  0.0279]])),\n",
              "             ('linear.bias',\n",
              "              tensor([-0.0167,  0.0139, -0.0369, -0.0074,  0.0242,  0.0306, -0.0216, -0.0136,\n",
              "                      -0.0098,  0.0220]))])"
            ]
          },
          "metadata": {
            "tags": []
          },
          "execution_count": 23
        }
      ]
    },
    {
      "cell_type": "code",
      "metadata": {
        "id": "tLhmjMYgAQpV",
        "colab_type": "code",
        "colab": {
          "base_uri": "https://localhost:8080/",
          "height": 202
        },
        "outputId": "cfeac2bc-dbbd-4248-d366-b765ed076317"
      },
      "source": [
        "model2 = MnistModel()\n",
        "model2.load_state_dict(torch.load('mnist-logistic.pth'))\n",
        "model2.state_dict()"
      ],
      "execution_count": 24,
      "outputs": [
        {
          "output_type": "execute_result",
          "data": {
            "text/plain": [
              "OrderedDict([('linear.weight',\n",
              "              tensor([[-0.0268,  0.0080,  0.0026,  ..., -0.0208,  0.0218,  0.0320],\n",
              "                      [ 0.0155, -0.0259, -0.0220,  ..., -0.0042, -0.0157, -0.0138],\n",
              "                      [ 0.0338, -0.0210,  0.0151,  ..., -0.0036, -0.0123,  0.0329],\n",
              "                      ...,\n",
              "                      [-0.0254,  0.0350, -0.0345,  ...,  0.0065,  0.0355,  0.0218],\n",
              "                      [-0.0170, -0.0249, -0.0307,  ..., -0.0035, -0.0244,  0.0133],\n",
              "                      [-0.0345, -0.0149, -0.0307,  ...,  0.0337, -0.0264,  0.0279]])),\n",
              "             ('linear.bias',\n",
              "              tensor([-0.0167,  0.0139, -0.0369, -0.0074,  0.0242,  0.0306, -0.0216, -0.0136,\n",
              "                      -0.0098,  0.0220]))])"
            ]
          },
          "metadata": {
            "tags": []
          },
          "execution_count": 24
        }
      ]
    },
    {
      "cell_type": "code",
      "metadata": {
        "id": "wHIPf4gLAVmS",
        "colab_type": "code",
        "colab": {
          "base_uri": "https://localhost:8080/",
          "height": 185
        },
        "outputId": "ec312b6b-d929-4a55-9f1b-c9a5153b5175"
      },
      "source": [
        "for batch,labels in test_loader:\n",
        "    outputs=model(batch)\n",
        "    print(model.accuracy(outputs,labels))"
      ],
      "execution_count": 25,
      "outputs": [
        {
          "output_type": "stream",
          "text": [
            "tensor(0.8018)\n",
            "tensor(0.7988)\n",
            "tensor(0.8174)\n",
            "tensor(0.7959)\n",
            "tensor(0.8027)\n",
            "tensor(0.8027)\n",
            "tensor(0.8027)\n",
            "tensor(0.7842)\n",
            "tensor(0.8115)\n",
            "tensor(0.7997)\n"
          ],
          "name": "stdout"
        }
      ]
    },
    {
      "cell_type": "code",
      "metadata": {
        "id": "jW5zN_epAbGW",
        "colab_type": "code",
        "colab": {}
      },
      "source": [
        ""
      ],
      "execution_count": 0,
      "outputs": []
    }
  ]
}