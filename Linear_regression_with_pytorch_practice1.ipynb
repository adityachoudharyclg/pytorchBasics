{
  "nbformat": 4,
  "nbformat_minor": 0,
  "metadata": {
    "colab": {
      "name": "Linear regression with pytorch practice1",
      "provenance": [],
      "authorship_tag": "ABX9TyNLInSJJN7UVtWGUKW1/5LT",
      "include_colab_link": true
    },
    "kernelspec": {
      "name": "python3",
      "display_name": "Python 3"
    }
  },
  "cells": [
    {
      "cell_type": "markdown",
      "metadata": {
        "id": "view-in-github",
        "colab_type": "text"
      },
      "source": [
        "<a href=\"https://colab.research.google.com/github/adityachoudharyclg/pytorchBasics/blob/master/Linear_regression_with_pytorch_practice1.ipynb\" target=\"_parent\"><img src=\"https://colab.research.google.com/assets/colab-badge.svg\" alt=\"Open In Colab\"/></a>"
      ]
    },
    {
      "cell_type": "code",
      "metadata": {
        "id": "MYvFBxNvsNJp",
        "colab_type": "code",
        "colab": {}
      },
      "source": [
        "from sklearn.datasets import load_boston\n",
        "import torch\n",
        "import torch.nn as nn\n",
        "from torch.utils.data import TensorDataset\n",
        "from torch.utils.data import DataLoader\n",
        "import torch.nn.functional as F\n",
        "import numpy as np\n",
        "import matplotlib.pyplot as plt\n"
      ],
      "execution_count": 0,
      "outputs": []
    },
    {
      "cell_type": "code",
      "metadata": {
        "id": "SUiOL-dLtMYY",
        "colab_type": "code",
        "colab": {}
      },
      "source": [
        "X,Y=load_boston(return_X_y=True)\n",
        "# print(X.shape,Y.shape)\n",
        "# print(X,Y)"
      ],
      "execution_count": 0,
      "outputs": []
    },
    {
      "cell_type": "code",
      "metadata": {
        "id": "jt_a2LNZthhi",
        "colab_type": "code",
        "colab": {
          "base_uri": "https://localhost:8080/",
          "height": 202
        },
        "outputId": "88e0d5d0-a4ce-48bc-de41-cd271f6630f0"
      },
      "source": [
        "X=np.asarray(X,dtype=np.float64)\n",
        "Y=np.reshape(Y,(Y.shape[0],1))\n",
        "inputs=torch.from_numpy(X)\n",
        "targets=torch.from_numpy(Y)\n",
        "train_ds = TensorDataset(inputs, targets)\n",
        "train_ds[0:3]"
      ],
      "execution_count": 241,
      "outputs": [
        {
          "output_type": "execute_result",
          "data": {
            "text/plain": [
              "(tensor([[6.3200e-03, 1.8000e+01, 2.3100e+00, 0.0000e+00, 5.3800e-01, 6.5750e+00,\n",
              "          6.5200e+01, 4.0900e+00, 1.0000e+00, 2.9600e+02, 1.5300e+01, 3.9690e+02,\n",
              "          4.9800e+00],\n",
              "         [2.7310e-02, 0.0000e+00, 7.0700e+00, 0.0000e+00, 4.6900e-01, 6.4210e+00,\n",
              "          7.8900e+01, 4.9671e+00, 2.0000e+00, 2.4200e+02, 1.7800e+01, 3.9690e+02,\n",
              "          9.1400e+00],\n",
              "         [2.7290e-02, 0.0000e+00, 7.0700e+00, 0.0000e+00, 4.6900e-01, 7.1850e+00,\n",
              "          6.1100e+01, 4.9671e+00, 2.0000e+00, 2.4200e+02, 1.7800e+01, 3.9283e+02,\n",
              "          4.0300e+00]], dtype=torch.float64), tensor([[24.0000],\n",
              "         [21.6000],\n",
              "         [34.7000]], dtype=torch.float64))"
            ]
          },
          "metadata": {
            "tags": []
          },
          "execution_count": 241
        }
      ]
    },
    {
      "cell_type": "code",
      "metadata": {
        "id": "i1fxe6RKt0ex",
        "colab_type": "code",
        "colab": {}
      },
      "source": [
        "train_dl=DataLoader(train_ds,batch_size=20,shuffle=True)"
      ],
      "execution_count": 0,
      "outputs": []
    },
    {
      "cell_type": "code",
      "metadata": {
        "id": "AzmFAmYlui8f",
        "colab_type": "code",
        "colab": {
          "base_uri": "https://localhost:8080/",
          "height": 1000
        },
        "outputId": "e65d4ace-f1cd-4fc1-939e-fc8399fbca6b"
      },
      "source": [
        "for xb, yb in train_dl:\n",
        "    print(xb)\n",
        "    print(yb)\n",
        "    break"
      ],
      "execution_count": 243,
      "outputs": [
        {
          "output_type": "stream",
          "text": [
            "tensor([[3.9610e-02, 0.0000e+00, 5.1900e+00, 0.0000e+00, 5.1500e-01, 6.0370e+00,\n",
            "         3.4500e+01, 5.9853e+00, 5.0000e+00, 2.2400e+02, 2.0200e+01, 3.9690e+02,\n",
            "         8.0100e+00],\n",
            "        [6.3931e+00, 0.0000e+00, 1.8100e+01, 0.0000e+00, 5.8400e-01, 6.1620e+00,\n",
            "         9.7400e+01, 2.2060e+00, 2.4000e+01, 6.6600e+02, 2.0200e+01, 3.0276e+02,\n",
            "         2.4100e+01],\n",
            "        [2.8392e-01, 0.0000e+00, 7.3800e+00, 0.0000e+00, 4.9300e-01, 5.7080e+00,\n",
            "         7.4300e+01, 4.7211e+00, 5.0000e+00, 2.8700e+02, 1.9600e+01, 3.9113e+02,\n",
            "         1.1740e+01],\n",
            "        [1.4390e-02, 6.0000e+01, 2.9300e+00, 0.0000e+00, 4.0100e-01, 6.6040e+00,\n",
            "         1.8800e+01, 6.2196e+00, 1.0000e+00, 2.6500e+02, 1.5600e+01, 3.7670e+02,\n",
            "         4.3800e+00],\n",
            "        [1.0539e+00, 0.0000e+00, 8.1400e+00, 0.0000e+00, 5.3800e-01, 5.9350e+00,\n",
            "         2.9300e+01, 4.4986e+00, 4.0000e+00, 3.0700e+02, 2.1000e+01, 3.8685e+02,\n",
            "         6.5800e+00],\n",
            "        [7.8860e-02, 8.0000e+01, 4.9500e+00, 0.0000e+00, 4.1100e-01, 7.1480e+00,\n",
            "         2.7700e+01, 5.1167e+00, 4.0000e+00, 2.4500e+02, 1.9200e+01, 3.9690e+02,\n",
            "         3.5600e+00],\n",
            "        [6.1470e-01, 0.0000e+00, 6.2000e+00, 0.0000e+00, 5.0700e-01, 6.6180e+00,\n",
            "         8.0800e+01, 3.2721e+00, 8.0000e+00, 3.0700e+02, 1.7400e+01, 3.9690e+02,\n",
            "         7.6000e+00],\n",
            "        [4.8982e+00, 0.0000e+00, 1.8100e+01, 0.0000e+00, 6.3100e-01, 4.9700e+00,\n",
            "         1.0000e+02, 1.3325e+00, 2.4000e+01, 6.6600e+02, 2.0200e+01, 3.7552e+02,\n",
            "         3.2600e+00],\n",
            "        [5.6460e-02, 0.0000e+00, 1.2830e+01, 0.0000e+00, 4.3700e-01, 6.2320e+00,\n",
            "         5.3700e+01, 5.0141e+00, 5.0000e+00, 3.9800e+02, 1.8700e+01, 3.8640e+02,\n",
            "         1.2340e+01],\n",
            "        [9.3291e+00, 0.0000e+00, 1.8100e+01, 0.0000e+00, 7.1300e-01, 6.1850e+00,\n",
            "         9.8700e+01, 2.2616e+00, 2.4000e+01, 6.6600e+02, 2.0200e+01, 3.9690e+02,\n",
            "         1.8130e+01],\n",
            "        [5.8240e+00, 0.0000e+00, 1.8100e+01, 0.0000e+00, 5.3200e-01, 6.2420e+00,\n",
            "         6.4700e+01, 3.4242e+00, 2.4000e+01, 6.6600e+02, 2.0200e+01, 3.9690e+02,\n",
            "         1.0740e+01],\n",
            "        [5.3700e-01, 0.0000e+00, 6.2000e+00, 0.0000e+00, 5.0400e-01, 5.9810e+00,\n",
            "         6.8100e+01, 3.6715e+00, 8.0000e+00, 3.0700e+02, 1.7400e+01, 3.7835e+02,\n",
            "         1.1650e+01],\n",
            "        [2.5199e-01, 0.0000e+00, 1.0590e+01, 0.0000e+00, 4.8900e-01, 5.7830e+00,\n",
            "         7.2700e+01, 4.3549e+00, 4.0000e+00, 2.7700e+02, 1.8600e+01, 3.8943e+02,\n",
            "         1.8060e+01],\n",
            "        [6.2739e-01, 0.0000e+00, 8.1400e+00, 0.0000e+00, 5.3800e-01, 5.8340e+00,\n",
            "         5.6500e+01, 4.4986e+00, 4.0000e+00, 3.0700e+02, 2.1000e+01, 3.9562e+02,\n",
            "         8.4700e+00],\n",
            "        [1.8811e+01, 0.0000e+00, 1.8100e+01, 0.0000e+00, 5.9700e-01, 4.6280e+00,\n",
            "         1.0000e+02, 1.5539e+00, 2.4000e+01, 6.6600e+02, 2.0200e+01, 2.8790e+01,\n",
            "         3.4370e+01],\n",
            "        [3.5114e-01, 0.0000e+00, 7.3800e+00, 0.0000e+00, 4.9300e-01, 6.0410e+00,\n",
            "         4.9900e+01, 4.7211e+00, 5.0000e+00, 2.8700e+02, 1.9600e+01, 3.9690e+02,\n",
            "         7.7000e+00],\n",
            "        [6.8990e-02, 0.0000e+00, 2.5650e+01, 0.0000e+00, 5.8100e-01, 5.8700e+00,\n",
            "         6.9700e+01, 2.2577e+00, 2.0000e+00, 1.8800e+02, 1.9100e+01, 3.8915e+02,\n",
            "         1.4370e+01],\n",
            "        [1.0612e-01, 3.0000e+01, 4.9300e+00, 0.0000e+00, 4.2800e-01, 6.0950e+00,\n",
            "         6.5100e+01, 6.3361e+00, 6.0000e+00, 3.0000e+02, 1.6600e+01, 3.9462e+02,\n",
            "         1.2400e+01],\n",
            "        [2.1870e-02, 6.0000e+01, 2.9300e+00, 0.0000e+00, 4.0100e-01, 6.8000e+00,\n",
            "         9.9000e+00, 6.2196e+00, 1.0000e+00, 2.6500e+02, 1.5600e+01, 3.9337e+02,\n",
            "         5.0300e+00],\n",
            "        [6.5880e-02, 0.0000e+00, 2.4600e+00, 0.0000e+00, 4.8800e-01, 7.7650e+00,\n",
            "         8.3300e+01, 2.7410e+00, 3.0000e+00, 1.9300e+02, 1.7800e+01, 3.9556e+02,\n",
            "         7.5600e+00]], dtype=torch.float64)\n",
            "tensor([[21.1000],\n",
            "        [13.3000],\n",
            "        [18.5000],\n",
            "        [29.1000],\n",
            "        [23.1000],\n",
            "        [37.3000],\n",
            "        [30.1000],\n",
            "        [50.0000],\n",
            "        [21.2000],\n",
            "        [14.1000],\n",
            "        [23.0000],\n",
            "        [24.3000],\n",
            "        [22.5000],\n",
            "        [19.9000],\n",
            "        [17.9000],\n",
            "        [20.4000],\n",
            "        [22.0000],\n",
            "        [20.1000],\n",
            "        [31.1000],\n",
            "        [39.8000]], dtype=torch.float64)\n"
          ],
          "name": "stdout"
        }
      ]
    },
    {
      "cell_type": "code",
      "metadata": {
        "id": "e2j1jjNFu08n",
        "colab_type": "code",
        "colab": {
          "base_uri": "https://localhost:8080/",
          "height": 101
        },
        "outputId": "e95ce0e1-1d14-4337-f42a-9e66109444af"
      },
      "source": [
        "model=nn.Linear(inputs.shape[1],1)\n",
        "print(model.weight)\n",
        "print(model.bias)"
      ],
      "execution_count": 244,
      "outputs": [
        {
          "output_type": "stream",
          "text": [
            "Parameter containing:\n",
            "tensor([[ 0.0947,  0.2237, -0.2436, -0.1791, -0.0159,  0.2544, -0.2319, -0.1598,\n",
            "         -0.2771,  0.0162,  0.1304, -0.2391, -0.0865]], requires_grad=True)\n",
            "Parameter containing:\n",
            "tensor([0.2472], requires_grad=True)\n"
          ],
          "name": "stdout"
        }
      ]
    },
    {
      "cell_type": "code",
      "metadata": {
        "id": "YuIGAdqFvqTT",
        "colab_type": "code",
        "colab": {
          "base_uri": "https://localhost:8080/",
          "height": 34
        },
        "outputId": "4afdabff-fbc1-4326-a1b2-cef5418487d4"
      },
      "source": [
        "preds=model(inputs.float())\n",
        "preds.shape"
      ],
      "execution_count": 245,
      "outputs": [
        {
          "output_type": "execute_result",
          "data": {
            "text/plain": [
              "torch.Size([506, 1])"
            ]
          },
          "metadata": {
            "tags": []
          },
          "execution_count": 245
        }
      ]
    },
    {
      "cell_type": "code",
      "metadata": {
        "id": "oEoFs4QQwOSK",
        "colab_type": "code",
        "colab": {}
      },
      "source": [
        "loss_fn = F.mse_loss"
      ],
      "execution_count": 0,
      "outputs": []
    },
    {
      "cell_type": "code",
      "metadata": {
        "id": "P2U-iJiVyCEL",
        "colab_type": "code",
        "colab": {
          "base_uri": "https://localhost:8080/",
          "height": 34
        },
        "outputId": "16af2fad-7eae-4d8a-c250-05aeda1aa3b1"
      },
      "source": [
        "loss = loss_fn(model(inputs.float()), targets.float())\n",
        "print(loss)\n",
        "loss.backward()"
      ],
      "execution_count": 247,
      "outputs": [
        {
          "output_type": "stream",
          "text": [
            "tensor(14308.3740, grad_fn=<MseLossBackward>)\n"
          ],
          "name": "stdout"
        }
      ]
    },
    {
      "cell_type": "code",
      "metadata": {
        "id": "0I_GeNdizDgx",
        "colab_type": "code",
        "colab": {}
      },
      "source": [
        "opt = torch.optim.SGD(model.parameters(), lr=1e-8)"
      ],
      "execution_count": 0,
      "outputs": []
    },
    {
      "cell_type": "code",
      "metadata": {
        "id": "enoknO2myabs",
        "colab_type": "code",
        "colab": {}
      },
      "source": [
        "# Utility function to train the model\n",
        "def fit(num_epochs, model, loss_fn, opt, train_dl):\n",
        "    errors=[]\n",
        "    # Repeat for given number of epochs\n",
        "    for epoch in range(num_epochs):\n",
        "        \n",
        "        # Train with batches of data\n",
        "        for xb,yb in train_dl:\n",
        "            \n",
        "            # 1. Generate predictions\n",
        "            pred = model(xb.float())\n",
        "            \n",
        "            # 2. Calculate loss\n",
        "            loss = loss_fn(pred, yb.float())\n",
        "            \n",
        "            # 3. Compute gradients\n",
        "            loss.backward()\n",
        "            \n",
        "            # 4. Update parameters using gradients\n",
        "            opt.step()\n",
        "            \n",
        "            # 5. Reset the gradients to zero\n",
        "            opt.zero_grad()\n",
        "        \n",
        "        # Print the progress\n",
        "        errors.append(loss.item())\n",
        "        if (epoch+1) % 100 == 0:\n",
        "            print('Epoch [{}/{}], Loss: {:.4f}'.format(epoch+1, num_epochs, loss.item()))\n",
        "    plt.plot(errors)\n"
      ],
      "execution_count": 0,
      "outputs": []
    },
    {
      "cell_type": "code",
      "metadata": {
        "id": "1mKdw-dc0jcf",
        "colab_type": "code",
        "colab": {
          "base_uri": "https://localhost:8080/",
          "height": 433
        },
        "outputId": "4e6a12cb-17d8-4a53-f3ce-5baea57496b4"
      },
      "source": [
        "fit(1000, model, loss_fn, opt,train_dl)"
      ],
      "execution_count": 250,
      "outputs": [
        {
          "output_type": "stream",
          "text": [
            "Epoch [100/1000], Loss: 117.0611\n",
            "Epoch [200/1000], Loss: 198.9012\n",
            "Epoch [300/1000], Loss: 56.9209\n",
            "Epoch [400/1000], Loss: 169.7771\n",
            "Epoch [500/1000], Loss: 85.7689\n",
            "Epoch [600/1000], Loss: 120.0085\n",
            "Epoch [700/1000], Loss: 202.4949\n",
            "Epoch [800/1000], Loss: 88.4459\n",
            "Epoch [900/1000], Loss: 118.7280\n",
            "Epoch [1000/1000], Loss: 39.2409\n"
          ],
          "name": "stdout"
        },
        {
          "output_type": "display_data",
          "data": {
            "image/png": "[encoded data removed]",
            "text/plain": [
              "<Figure size 432x288 with 1 Axes>"
            ]
          },
          "metadata": {
            "tags": [],
            "needs_background": "light"
          }
        }
      ]
    },
    {
      "cell_type": "code",
      "metadata": {
        "id": "qgI-UieR6C6C",
        "colab_type": "code",
        "colab": {}
      },
      "source": [
        ""
      ],
      "execution_count": 0,
      "outputs": []
    }
  ]
}