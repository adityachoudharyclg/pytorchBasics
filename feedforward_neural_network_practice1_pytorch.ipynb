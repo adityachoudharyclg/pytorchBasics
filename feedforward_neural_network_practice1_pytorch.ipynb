{
  "nbformat": 4,
  "nbformat_minor": 0,
  "metadata": {
    "colab": {
      "name": "feedforward neural network practice1 pytorch",
      "provenance": [],
      "collapsed_sections": [],
      "authorship_tag": "ABX9TyMn3REwcgIWAPEgETHcVXnc",
      "include_colab_link": true
    },
    "kernelspec": {
      "name": "python3",
      "display_name": "Python 3"
    },
    "accelerator": "GPU"
  },
  "cells": [
    {
      "cell_type": "markdown",
      "metadata": {
        "id": "view-in-github",
        "colab_type": "text"
      },
      "source": [
        "<a href=\"https://colab.research.google.com/github/adityachoudharyclg/pytorchBasics/blob/master/feedforward_neural_network_practice1_pytorch.ipynb\" target=\"_parent\"><img src=\"https://colab.research.google.com/assets/colab-badge.svg\" alt=\"Open In Colab\"/></a>"
      ]
    },
    {
      "cell_type": "code",
      "metadata": {
        "id": "KBjpD2OGxIq_",
        "colab_type": "code",
        "colab": {}
      },
      "source": [
        "import torch\n",
        "import torchvision\n",
        "from torch.utils.data import DataLoader,random_split,TensorDataset\n",
        "import numpy as np \n",
        "from torchvision.transforms import ToTensor"
      ],
      "execution_count": 0,
      "outputs": []
    },
    {
      "cell_type": "code",
      "metadata": {
        "id": "cUgCqtFCxrJ0",
        "colab_type": "code",
        "colab": {}
      },
      "source": [
        "from torchvision.datasets import FashionMNIST"
      ],
      "execution_count": 0,
      "outputs": []
    },
    {
      "cell_type": "markdown",
      "metadata": {
        "id": "CQmwXcusz62H",
        "colab_type": "text"
      },
      "source": [
        "Downloading train and test dataset"
      ]
    },
    {
      "cell_type": "code",
      "metadata": {
        "id": "E_dnnOlRyHM_",
        "colab_type": "code",
        "colab": {}
      },
      "source": [
        "train_dataset=FashionMNIST(root='data/',train=True,download=True,transform=ToTensor())"
      ],
      "execution_count": 0,
      "outputs": []
    },
    {
      "cell_type": "code",
      "metadata": {
        "id": "zUQmNfPKyli5",
        "colab_type": "code",
        "colab": {
          "base_uri": "https://localhost:8080/",
          "height": 34
        },
        "outputId": "8fa349ed-29f2-4717-8073-f89dbf886609"
      },
      "source": [
        "train_dataset[0][0].shape"
      ],
      "execution_count": 4,
      "outputs": [
        {
          "output_type": "execute_result",
          "data": {
            "text/plain": [
              "torch.Size([1, 28, 28])"
            ]
          },
          "metadata": {
            "tags": []
          },
          "execution_count": 4
        }
      ]
    },
    {
      "cell_type": "code",
      "metadata": {
        "id": "rUl7y1FUy04Z",
        "colab_type": "code",
        "colab": {
          "base_uri": "https://localhost:8080/",
          "height": 282
        },
        "outputId": "a378c4b6-04f4-463d-dabd-0889753acf9f"
      },
      "source": [
        "import matplotlib.pyplot as plt\n",
        "plt.imshow(train_dataset[0][0].reshape(28,28),cmap='gray')\n",
        "print(train_dataset[0][1])"
      ],
      "execution_count": 5,
      "outputs": [
        {
          "output_type": "stream",
          "text": [
            "9\n"
          ],
          "name": "stdout"
        },
        {
          "output_type": "display_data",
          "data": {
            "image/png": "[encoded data removed]",
            "text/plain": [
              "<Figure size 432x288 with 1 Axes>"
            ]
          },
          "metadata": {
            "tags": [],
            "needs_background": "light"
          }
        }
      ]
    },
    {
      "cell_type": "code",
      "metadata": {
        "id": "hLVTbTWuzDre",
        "colab_type": "code",
        "colab": {
          "base_uri": "https://localhost:8080/",
          "height": 118
        },
        "outputId": "6201cc2b-766b-4bdd-a7aa-01f1d846aaeb"
      },
      "source": [
        "train_dataset"
      ],
      "execution_count": 6,
      "outputs": [
        {
          "output_type": "execute_result",
          "data": {
            "text/plain": [
              "Dataset FashionMNIST\n",
              "    Number of datapoints: 60000\n",
              "    Root location: data/\n",
              "    Split: Train\n",
              "    StandardTransform\n",
              "Transform: ToTensor()"
            ]
          },
          "metadata": {
            "tags": []
          },
          "execution_count": 6
        }
      ]
    },
    {
      "cell_type": "code",
      "metadata": {
        "id": "xQ5sGalhzXfy",
        "colab_type": "code",
        "colab": {}
      },
      "source": [
        "test_dataset=FashionMNIST(root='data/',train=False,download=True,transform=ToTensor())"
      ],
      "execution_count": 0,
      "outputs": []
    },
    {
      "cell_type": "code",
      "metadata": {
        "id": "NF3dN2olz0nK",
        "colab_type": "code",
        "colab": {
          "base_uri": "https://localhost:8080/",
          "height": 34
        },
        "outputId": "dd831a6d-7ca1-42fa-fbd7-35a17e9c4fa3"
      },
      "source": [
        "len(test_dataset)"
      ],
      "execution_count": 8,
      "outputs": [
        {
          "output_type": "execute_result",
          "data": {
            "text/plain": [
              "10000"
            ]
          },
          "metadata": {
            "tags": []
          },
          "execution_count": 8
        }
      ]
    },
    {
      "cell_type": "code",
      "metadata": {
        "id": "NlrLUwS4z2qM",
        "colab_type": "code",
        "colab": {
          "base_uri": "https://localhost:8080/",
          "height": 282
        },
        "outputId": "e2db6897-fece-4f82-ac36-46ed09eb07b7"
      },
      "source": [
        "plt.imshow(test_dataset[1][0].reshape(28,28),cmap='gray')\n",
        "print(test_dataset[1][1])"
      ],
      "execution_count": 9,
      "outputs": [
        {
          "output_type": "stream",
          "text": [
            "2\n"
          ],
          "name": "stdout"
        },
        {
          "output_type": "display_data",
          "data": {
            "image/png": "[encoded data removed]",
            "text/plain": [
              "<Figure size 432x288 with 1 Axes>"
            ]
          },
          "metadata": {
            "tags": [],
            "needs_background": "light"
          }
        }
      ]
    },
    {
      "cell_type": "markdown",
      "metadata": {
        "id": "QjYbFG_c1V1-",
        "colab_type": "text"
      },
      "source": [
        "Preprocessing Data"
      ]
    },
    {
      "cell_type": "code",
      "metadata": {
        "id": "VzIQlTrs0Kty",
        "colab_type": "code",
        "colab": {}
      },
      "source": [
        "train_ds,val_ds=random_split(train_dataset,[int(len(train_dataset)*0.8),int(len(train_dataset)*0.2)])"
      ],
      "execution_count": 0,
      "outputs": []
    },
    {
      "cell_type": "code",
      "metadata": {
        "id": "tqzHSyus0pnD",
        "colab_type": "code",
        "colab": {
          "base_uri": "https://localhost:8080/",
          "height": 34
        },
        "outputId": "5151b383-7d24-45c2-837e-9139e244ea2c"
      },
      "source": [
        "train_ds[0][0].shape"
      ],
      "execution_count": 11,
      "outputs": [
        {
          "output_type": "execute_result",
          "data": {
            "text/plain": [
              "torch.Size([1, 28, 28])"
            ]
          },
          "metadata": {
            "tags": []
          },
          "execution_count": 11
        }
      ]
    },
    {
      "cell_type": "code",
      "metadata": {
        "id": "CkAyIAnA0qvs",
        "colab_type": "code",
        "colab": {}
      },
      "source": [
        "train_dl=DataLoader(train_ds,batch_size=256,shuffle=True)\n",
        "val_dl=DataLoader(val_ds,batch_size=256,shuffle=True)"
      ],
      "execution_count": 0,
      "outputs": []
    },
    {
      "cell_type": "code",
      "metadata": {
        "id": "fIAS4Qks1jUQ",
        "colab_type": "code",
        "colab": {
          "base_uri": "https://localhost:8080/",
          "height": 218
        },
        "outputId": "f29d63b3-97a1-44b1-8ca2-762415987b5c"
      },
      "source": [
        "for xb,yb in train_dl:\n",
        "    print(xb.shape)\n",
        "    print(yb)\n",
        "    break"
      ],
      "execution_count": 13,
      "outputs": [
        {
          "output_type": "stream",
          "text": [
            "torch.Size([256, 1, 28, 28])\n",
            "tensor([8, 2, 9, 6, 6, 7, 7, 9, 3, 8, 8, 2, 4, 2, 1, 3, 2, 8, 7, 4, 2, 0, 7, 4,\n",
            "        8, 0, 5, 6, 4, 5, 3, 4, 6, 9, 7, 5, 6, 2, 5, 0, 7, 0, 0, 1, 0, 1, 3, 6,\n",
            "        1, 8, 2, 0, 1, 4, 7, 2, 5, 9, 8, 6, 3, 4, 3, 3, 6, 6, 8, 5, 1, 7, 9, 6,\n",
            "        1, 1, 7, 5, 1, 0, 6, 2, 2, 5, 3, 9, 2, 4, 4, 9, 7, 8, 9, 6, 0, 6, 1, 5,\n",
            "        4, 8, 3, 0, 6, 0, 2, 6, 2, 2, 1, 0, 4, 8, 8, 3, 5, 3, 7, 0, 5, 9, 4, 9,\n",
            "        1, 8, 4, 2, 4, 5, 2, 1, 9, 5, 0, 6, 2, 5, 2, 4, 2, 0, 1, 4, 7, 8, 2, 5,\n",
            "        8, 0, 9, 1, 6, 5, 1, 6, 6, 4, 4, 7, 5, 3, 9, 4, 2, 5, 7, 0, 3, 4, 1, 0,\n",
            "        8, 2, 3, 0, 8, 0, 6, 1, 6, 8, 4, 3, 2, 7, 5, 7, 4, 9, 6, 9, 0, 1, 1, 0,\n",
            "        7, 5, 0, 4, 3, 3, 7, 4, 8, 1, 5, 0, 7, 1, 6, 2, 3, 0, 5, 3, 1, 4, 0, 1,\n",
            "        9, 4, 4, 6, 0, 0, 5, 4, 1, 6, 1, 8, 5, 0, 6, 1, 6, 2, 2, 4, 1, 6, 3, 9,\n",
            "        8, 1, 3, 2, 0, 8, 4, 8, 0, 5, 9, 8, 8, 6, 9, 6])\n"
          ],
          "name": "stdout"
        }
      ]
    },
    {
      "cell_type": "markdown",
      "metadata": {
        "id": "FBr-ajkE14TX",
        "colab_type": "text"
      },
      "source": [
        "Creating Model"
      ]
    },
    {
      "cell_type": "code",
      "metadata": {
        "id": "XrJu9gYN2o53",
        "colab_type": "code",
        "colab": {}
      },
      "source": [
        "import torch.nn as nn\n",
        "import torch.nn.functional as F"
      ],
      "execution_count": 0,
      "outputs": []
    },
    {
      "cell_type": "code",
      "metadata": {
        "id": "5k9MP_YY2C6L",
        "colab_type": "code",
        "colab": {}
      },
      "source": [
        "class fashionMNIST(nn.Module):\n",
        "    def __init__(self,input_size=784,output_size=10):\n",
        "        super().__init__()\n",
        "        # Hidden Layer 1\n",
        "        self.linear1=nn.Linear(input_size,128)\n",
        "        # Hidden Layer 2\n",
        "        self.linear2=nn.Linear(128,32)\n",
        "        # output Layer\n",
        "        self.linear3=nn.Linear(32,output_size)\n",
        "    \n",
        "    def forward(self,xb):\n",
        "        xb=xb.view(xb.size(0),-1)\n",
        "        out=self.linear1(xb)\n",
        "        out=F.relu(out)\n",
        "        out=self.linear2(out)\n",
        "        out=F.relu(out)\n",
        "        out=self.linear3(out)\n",
        "        return out\n",
        "    \n",
        "    def fit(self,train_dl,val_dl,metric=None,lr=0.01,num_epochs=10):\n",
        "        opt=torch.optim.SGD\n",
        "        optimizer=opt(self.parameters(),lr)\n",
        "        for epoch in range(num_epochs):\n",
        "            # Training phase\n",
        "            # print(train_dl)\n",
        "            for batch,labels in train_dl:\n",
        "                # print(batch)\n",
        "                outputs=self(batch)\n",
        "                loss=F.cross_entropy(outputs,labels)\n",
        "                loss.backward()\n",
        "                optimizer.step()\n",
        "                optimizer.zero_grad()\n",
        "            # validation phase\n",
        "            avg_loss=[]\n",
        "            avg_acc=[]\n",
        "            total=0\n",
        "            for batch,labels in val_dl:\n",
        "                outputs=self(batch)\n",
        "                val_loss=F.cross_entropy(outputs,labels)\n",
        "                avg_loss.append(len(batch)*val_loss)\n",
        "                if(metric!=None):\n",
        "                    avg_acc.append(len(batch)*metric(outputs,labels))\n",
        "                total+=len(batch)\n",
        "            avg_loss=sum(avg_loss)/total\n",
        "            if(metric!=None):\n",
        "                avg_acc=sum(avg_acc)/total\n",
        "            if metric==None:\n",
        "                print('Epoch [{}/{}] cur_train_loss:{:.4f} avg_val_loss:{:.4f}'.format(epoch+1,num_epochs,loss,avg_loss))\n",
        "            else:\n",
        "                print('Epoch [{}/{}] cur_train_loss:{:.4f} avg_val_loss:{:.4f} avg_val_acc={:.4f}'.format(epoch+1,num_epochs,loss,avg_loss,avg_acc))"
      ],
      "execution_count": 0,
      "outputs": []
    },
    {
      "cell_type": "code",
      "metadata": {
        "id": "UthBMVI-4IeD",
        "colab_type": "code",
        "colab": {
          "base_uri": "https://localhost:8080/",
          "height": 34
        },
        "outputId": "897862d3-881d-4b84-e706-15e36d988388"
      },
      "source": [
        "model=fashionMNIST()\n",
        "for xb,yb in train_dl:\n",
        "    preds=model(xb)\n",
        "    print(preds.shape)\n",
        "    break"
      ],
      "execution_count": 16,
      "outputs": [
        {
          "output_type": "stream",
          "text": [
            "torch.Size([256, 10])\n"
          ],
          "name": "stdout"
        }
      ]
    },
    {
      "cell_type": "markdown",
      "metadata": {
        "id": "pfAJhnhLBJau",
        "colab_type": "text"
      },
      "source": [
        "Metrics"
      ]
    },
    {
      "cell_type": "code",
      "metadata": {
        "id": "IPfy1T7GBNrj",
        "colab_type": "code",
        "colab": {}
      },
      "source": [
        "def accuracy(outputs,labels):\n",
        "    _, preds = torch.max(outputs, dim=1)\n",
        "    return torch.sum(preds == labels).item() / len(preds)"
      ],
      "execution_count": 0,
      "outputs": []
    },
    {
      "cell_type": "markdown",
      "metadata": {
        "id": "ecw1zi5sCkk9",
        "colab_type": "text"
      },
      "source": [
        "Loading data to GPU"
      ]
    },
    {
      "cell_type": "code",
      "metadata": {
        "id": "hTPAjVDACh5o",
        "colab_type": "code",
        "colab": {}
      },
      "source": [
        "def get_default_device():\n",
        "    \"\"\"Pick GPU if available, else CPU\"\"\"\n",
        "    if torch.cuda.is_available():\n",
        "        return torch.device('cuda')\n",
        "    else:\n",
        "        return torch.device('cpu')\n",
        "def to_device(data, device):\n",
        "    \"\"\"Move tensor(s) to chosen device\"\"\"\n",
        "    if isinstance(data, (list,tuple)):\n",
        "        return [to_device(x, device) for x in data]\n",
        "    return data.to(device, non_blocking=True)\n",
        "class DeviceDataLoader():\n",
        "    # Convenient for moving data to device\n",
        "    def __init__(self,dl,device):\n",
        "        self.dl=dl\n",
        "        self.device=device\n",
        "    \n",
        "    def __iter__(self):\n",
        "        \"\"\"Yield a batch of data after moving it to device\"\"\"\n",
        "        for b in self.dl:\n",
        "            yield to_device(b,self.device)\n",
        "    \n",
        "    def __len__(self):\n",
        "        \"\"\" Number of batches \"\"\"\n",
        "        return len(self.dl)"
      ],
      "execution_count": 0,
      "outputs": []
    },
    {
      "cell_type": "markdown",
      "metadata": {
        "id": "1o5mzPDbBQU2",
        "colab_type": "text"
      },
      "source": [
        "Testing the model"
      ]
    },
    {
      "cell_type": "code",
      "metadata": {
        "id": "5JWp8uqK76GH",
        "colab_type": "code",
        "colab": {}
      },
      "source": [
        "device=get_default_device()\n",
        "train_dl = DeviceDataLoader(train_dl, device)\n",
        "val_dl = DeviceDataLoader(val_dl, device)"
      ],
      "execution_count": 0,
      "outputs": []
    },
    {
      "cell_type": "code",
      "metadata": {
        "id": "DFR8YGRn8PEc",
        "colab_type": "code",
        "colab": {
          "base_uri": "https://localhost:8080/",
          "height": 101
        },
        "outputId": "ec03657e-9589-4660-a096-eb8a9700433f"
      },
      "source": [
        "model=fashionMNIST()\n",
        "to_device(model, device)"
      ],
      "execution_count": 29,
      "outputs": [
        {
          "output_type": "execute_result",
          "data": {
            "text/plain": [
              "fashionMNIST(\n",
              "  (linear1): Linear(in_features=784, out_features=128, bias=True)\n",
              "  (linear2): Linear(in_features=128, out_features=32, bias=True)\n",
              "  (linear3): Linear(in_features=32, out_features=10, bias=True)\n",
              ")"
            ]
          },
          "metadata": {
            "tags": []
          },
          "execution_count": 29
        }
      ]
    },
    {
      "cell_type": "code",
      "metadata": {
        "id": "XPMTvdSs8ZOt",
        "colab_type": "code",
        "colab": {
          "base_uri": "https://localhost:8080/",
          "height": 118
        },
        "outputId": "0e23f80b-8936-4740-a1fa-2b08216efc39"
      },
      "source": [
        "for item in model.parameters():\n",
        "    print(item.shape)"
      ],
      "execution_count": 30,
      "outputs": [
        {
          "output_type": "stream",
          "text": [
            "torch.Size([128, 784])\n",
            "torch.Size([128])\n",
            "torch.Size([32, 128])\n",
            "torch.Size([32])\n",
            "torch.Size([10, 32])\n",
            "torch.Size([10])\n"
          ],
          "name": "stdout"
        }
      ]
    },
    {
      "cell_type": "code",
      "metadata": {
        "id": "t5mMiG5M8hmL",
        "colab_type": "code",
        "colab": {
          "base_uri": "https://localhost:8080/",
          "height": 185
        },
        "outputId": "1346656f-81b8-4f10-86ca-ce991b260f76"
      },
      "source": [
        "model.fit(train_dl,val_dl,metric=accuracy,lr=0.05)"
      ],
      "execution_count": 31,
      "outputs": [
        {
          "output_type": "stream",
          "text": [
            "Epoch [1/10] cur_train_loss:0.9216 avg_val_loss:0.8611 avg_val_acc=0.6865\n",
            "Epoch [2/10] cur_train_loss:0.5630 avg_val_loss:0.6840 avg_val_acc=0.7672\n",
            "Epoch [3/10] cur_train_loss:0.5847 avg_val_loss:0.6140 avg_val_acc=0.7862\n",
            "Epoch [4/10] cur_train_loss:0.6238 avg_val_loss:0.5383 avg_val_acc=0.8147\n",
            "Epoch [5/10] cur_train_loss:0.5720 avg_val_loss:0.5071 avg_val_acc=0.8253\n",
            "Epoch [6/10] cur_train_loss:0.5301 avg_val_loss:0.5241 avg_val_acc=0.8153\n",
            "Epoch [7/10] cur_train_loss:0.4402 avg_val_loss:0.4759 avg_val_acc=0.8345\n",
            "Epoch [8/10] cur_train_loss:0.4619 avg_val_loss:0.4639 avg_val_acc=0.8370\n",
            "Epoch [9/10] cur_train_loss:0.3845 avg_val_loss:0.4484 avg_val_acc=0.8448\n",
            "Epoch [10/10] cur_train_loss:0.5725 avg_val_loss:0.5228 avg_val_acc=0.8165\n"
          ],
          "name": "stdout"
        }
      ]
    },
    {
      "cell_type": "code",
      "metadata": {
        "id": "y2SaoNHhATSN",
        "colab_type": "code",
        "colab": {}
      },
      "source": [
        "test_dl=DataLoader(test_dataset,batch_size=1024,shuffle=True)\n",
        "device=get_default_device()\n",
        "test_dl = DeviceDataLoader(test_dl, device)"
      ],
      "execution_count": 0,
      "outputs": []
    },
    {
      "cell_type": "code",
      "metadata": {
        "id": "6c1exJ-lAe6k",
        "colab_type": "code",
        "colab": {
          "base_uri": "https://localhost:8080/",
          "height": 185
        },
        "outputId": "0e95bf50-d80f-41fb-a560-0e06319f1b03"
      },
      "source": [
        "for xb,yb in test_dl:\n",
        "    outputs=model(xb)\n",
        "    print(accuracy(outputs,yb))"
      ],
      "execution_count": 33,
      "outputs": [
        {
          "output_type": "stream",
          "text": [
            "0.8046875\n",
            "0.7939453125\n",
            "0.8330078125\n",
            "0.8056640625\n",
            "0.802734375\n",
            "0.7880859375\n",
            "0.8037109375\n",
            "0.8046875\n",
            "0.8349609375\n",
            "0.8125\n"
          ],
          "name": "stdout"
        }
      ]
    },
    {
      "cell_type": "markdown",
      "metadata": {
        "id": "NsYNzXDlDJda",
        "colab_type": "text"
      },
      "source": [
        "Saving the model"
      ]
    },
    {
      "cell_type": "code",
      "metadata": {
        "id": "sMZpmUiADeVK",
        "colab_type": "code",
        "colab": {}
      },
      "source": [
        "torch.save(model.state_dict(), 'mnist-logistic.pth')"
      ],
      "execution_count": 0,
      "outputs": []
    },
    {
      "cell_type": "markdown",
      "metadata": {
        "id": "SYsAYasnDe1v",
        "colab_type": "text"
      },
      "source": [
        "Loading the model"
      ]
    },
    {
      "cell_type": "code",
      "metadata": {
        "id": "jexG1HvNDhgk",
        "colab_type": "code",
        "colab": {
          "base_uri": "https://localhost:8080/",
          "height": 1000
        },
        "outputId": "ebd77688-a614-4303-8f6c-0db69e4dc824"
      },
      "source": [
        "model2 = fashionMNIST()\n",
        "model2.load_state_dict(torch.load('mnist-logistic.pth'))\n",
        "model2.state_dict()"
      ],
      "execution_count": 35,
      "outputs": [
        {
          "output_type": "execute_result",
          "data": {
            "text/plain": [
              "OrderedDict([('linear1.weight',\n",
              "              tensor([[ 0.0014, -0.0119, -0.0223,  ..., -0.0342,  0.0340, -0.0053],\n",
              "                      [-0.0010, -0.0278, -0.0080,  ...,  0.0182,  0.0149,  0.0120],\n",
              "                      [ 0.0062,  0.0084, -0.0236,  ..., -0.0352, -0.0342, -0.0133],\n",
              "                      ...,\n",
              "                      [ 0.0309,  0.0262,  0.0258,  ...,  0.0076, -0.0253, -0.0218],\n",
              "                      [-0.0266,  0.0225, -0.0323,  ..., -0.0350,  0.0251,  0.0309],\n",
              "                      [ 0.0290,  0.0341,  0.0170,  ...,  0.0096, -0.0258,  0.0008]])),\n",
              "             ('linear1.bias',\n",
              "              tensor([-1.2102e-01, -4.8212e-03,  6.6215e-03, -3.0770e-02,  1.1165e-01,\n",
              "                       2.2034e-02,  2.4774e-02,  3.5050e-03,  4.8363e-02,  5.1133e-02,\n",
              "                      -1.0931e-01, -8.4821e-03,  7.6143e-02,  5.2769e-02,  1.7194e-02,\n",
              "                      -1.7293e-02,  9.7423e-03, -8.0105e-03,  7.2275e-03,  1.0236e-01,\n",
              "                      -5.9603e-03,  7.5873e-02,  3.7971e-02,  7.5673e-02, -5.5101e-03,\n",
              "                       9.6668e-02,  7.2476e-03, -4.0541e-05,  1.5082e-02,  1.3133e-01,\n",
              "                      -1.1391e-02, -9.5286e-02,  5.2920e-02, -4.8740e-02,  1.0077e-01,\n",
              "                       2.5283e-02, -1.0931e-02, -1.7518e-02, -4.2983e-02,  1.9677e-02,\n",
              "                       2.3049e-02, -1.0750e-02,  5.4651e-02, -7.3847e-03, -2.4336e-02,\n",
              "                      -6.8444e-03, -1.8138e-02, -2.1810e-02, -2.0655e-02, -1.0266e-01,\n",
              "                       3.1915e-03,  5.0636e-02,  2.1503e-03,  7.6510e-02,  4.0427e-02,\n",
              "                      -3.1671e-02,  8.8887e-03,  2.9583e-02, -6.6101e-03,  1.6872e-01,\n",
              "                       3.1107e-02, -1.1695e-01,  2.1139e-01,  4.9129e-03,  2.1584e-02,\n",
              "                       2.3570e-02,  3.2216e-02, -2.1556e-02,  7.6651e-02,  1.1247e-02,\n",
              "                      -2.8337e-02,  7.2801e-02,  8.4790e-02,  4.7841e-03,  7.4133e-02,\n",
              "                      -3.6257e-03, -9.7241e-03,  2.8047e-02,  1.4494e-02, -6.2833e-02,\n",
              "                      -3.4965e-02,  1.2296e-01, -2.6731e-02,  1.3367e-01,  6.9592e-02,\n",
              "                       6.2019e-02,  1.5899e-02,  5.7006e-02,  1.0686e-01,  1.4740e-01,\n",
              "                      -2.7380e-02, -2.8281e-02,  9.1388e-03,  1.3707e-01,  4.4285e-02,\n",
              "                       2.4886e-02,  8.6920e-02, -1.0253e-02, -3.0186e-02,  9.2118e-02,\n",
              "                       2.8612e-02,  2.5848e-02, -4.2984e-02,  1.0009e-01,  1.5063e-02,\n",
              "                       9.3954e-02, -3.5191e-02, -5.7994e-02,  4.0238e-02,  5.0161e-02,\n",
              "                       2.0930e-01,  5.1144e-02,  1.0545e-01,  3.2101e-02,  4.5217e-02,\n",
              "                       1.1622e-01, -1.3633e-02,  2.2847e-01,  1.6900e-02,  1.0015e-01,\n",
              "                      -2.5031e-02, -1.2317e-01,  5.1316e-02,  3.6492e-02,  6.6238e-03,\n",
              "                       2.1856e-01, -4.3568e-03,  7.4675e-02])),\n",
              "             ('linear2.weight',\n",
              "              tensor([[-0.0993, -0.0306,  0.0165,  ...,  0.1000,  0.0269, -0.0677],\n",
              "                      [-0.1227,  0.1005, -0.0510,  ...,  0.1454, -0.0453, -0.1282],\n",
              "                      [ 0.0554,  0.0668, -0.0795,  ..., -0.0752,  0.0161,  0.0067],\n",
              "                      ...,\n",
              "                      [-0.0952, -0.0159, -0.0102,  ...,  0.0088,  0.0310, -0.0579],\n",
              "                      [ 0.0458,  0.0494,  0.0917,  ...,  0.1118, -0.0078,  0.1599],\n",
              "                      [ 0.0037,  0.0621,  0.0742,  ..., -0.0239, -0.0702, -0.0006]])),\n",
              "             ('linear2.bias',\n",
              "              tensor([ 0.1526,  0.2775, -0.0787,  0.1298,  0.0436, -0.0400,  0.0878,  0.1144,\n",
              "                       0.0025,  0.0173,  0.1396, -0.0204,  0.1322, -0.0932, -0.2563, -0.3563,\n",
              "                      -0.0606,  0.0291,  0.2931,  0.0132, -0.0877,  0.0320, -0.0160, -0.0245,\n",
              "                       0.1150, -0.0139,  0.0986,  0.0402,  0.3914,  0.0580,  0.1712, -0.0738])),\n",
              "             ('linear3.weight',\n",
              "              tensor([[ 0.1454,  0.1806, -0.0278, -0.1270, -0.4323,  0.0975, -0.0951,  0.0460,\n",
              "                       -0.4521, -0.0728,  0.2708, -0.0617,  0.1533, -0.3069, -0.1174, -0.1406,\n",
              "                        0.0689,  0.1362,  0.2205, -0.1883, -0.1913,  0.4727, -0.1376, -0.0131,\n",
              "                        0.3076,  0.3871,  0.0843,  0.1634, -0.3228,  0.1531,  0.0224,  0.1068],\n",
              "                      [-0.0649,  0.2150, -0.0269,  0.2630, -0.1375, -0.0875, -0.0789,  0.1450,\n",
              "                        0.0270,  0.0967,  0.6140, -0.1625,  0.2903,  0.3766, -0.1538,  0.1343,\n",
              "                        0.0916,  0.7363, -0.2988, -0.4809,  0.1090,  0.1857, -0.0171,  0.1101,\n",
              "                       -0.1466, -0.4869, -0.1420, -0.0769, -0.1159, -0.3249, -0.6219,  0.1021],\n",
              "                      [ 0.0466,  0.1471,  0.0808,  0.0147,  0.0900, -0.0811,  0.3501, -0.3482,\n",
              "                        0.2917,  0.1385, -0.7149, -0.0428,  0.1364,  0.1424, -0.3125,  0.0789,\n",
              "                        0.0350,  0.3053,  0.2032, -0.1769,  0.1586,  0.4196,  0.1054,  0.2117,\n",
              "                        0.1330,  0.1741,  0.1206,  0.0746,  0.1988, -0.2344, -0.4627,  0.1524],\n",
              "                      [ 0.0079, -0.1939, -0.1598,  0.0365,  0.3165,  0.1091, -0.1725, -0.1802,\n",
              "                        0.2998,  0.0778,  0.3521, -0.1063, -0.3830,  0.1889, -0.2769, -0.3014,\n",
              "                        0.1767,  0.1803, -0.1236, -0.0561,  0.0999, -0.1796, -0.0173, -0.0875,\n",
              "                        0.2036,  0.2992,  0.3908,  0.2649,  0.4272,  0.2678, -0.1427,  0.1173],\n",
              "                      [-0.2404, -0.4025,  0.0995, -0.1405,  0.1058, -0.1130,  0.2354,  0.0232,\n",
              "                        0.2122, -0.0922, -0.0848, -0.0830, -0.1535,  0.4098,  0.2923, -0.1598,\n",
              "                        0.1287,  0.1941, -0.2945, -0.3932,  0.2635,  0.4349, -0.1512,  0.4000,\n",
              "                       -0.4335,  0.2782, -0.3495,  0.1985, -0.1716,  0.0516, -0.2116,  0.0386],\n",
              "                      [ 0.3018,  0.5027, -0.2970,  0.5111,  0.2644, -0.1673,  0.3232,  0.5247,\n",
              "                       -0.2306,  0.0304, -0.2485, -0.0783,  0.2780,  0.0481, -0.2603, -0.4079,\n",
              "                        0.0315, -0.3674,  0.4832,  0.2872, -0.3017, -0.3918, -0.0730,  0.0873,\n",
              "                        0.1137, -0.5452, -0.3459, -0.5474,  0.5176,  0.1247,  0.2631,  0.0665],\n",
              "                      [-0.0524, -0.2606, -0.0437, -0.2408, -0.0810, -0.0700,  0.4572,  0.3111,\n",
              "                       -0.0689,  0.0444, -0.1456, -0.1194, -0.3305, -0.1534, -0.1366, -0.3158,\n",
              "                       -0.0179, -0.0223, -0.1111, -0.2717, -0.2454,  0.4002, -0.1390,  0.2432,\n",
              "                        0.1517,  0.1911,  0.2821,  0.5615, -0.4134, -0.0162,  0.2013, -0.0567],\n",
              "                      [ 0.1630,  0.2139,  0.2558, -0.3004,  0.1212, -0.0826, -0.6704, -0.2884,\n",
              "                       -0.0758,  0.1482,  0.1519,  0.1074,  0.3094, -0.0754,  0.2438,  0.2824,\n",
              "                        0.0028, -0.2364, -0.3769,  0.2531,  0.3362, -0.7435,  0.0719, -0.1314,\n",
              "                       -0.3401, -0.1588,  0.3319, -0.4814,  0.5509,  0.2038,  0.3694, -0.0730],\n",
              "                      [ 0.2234, -0.2213,  0.1506,  0.3076,  0.1293,  0.0216,  0.0250,  0.1813,\n",
              "                        0.1513, -0.1171, -0.0692, -0.0900,  0.0611, -0.3556,  0.4855,  0.1927,\n",
              "                       -0.0561, -0.5601,  0.3560,  0.0290, -0.0804,  0.2530,  0.0019,  0.2532,\n",
              "                       -0.1875,  0.5515, -0.1514, -0.3387, -0.2694, -0.2693,  0.3372,  0.0496],\n",
              "                      [-0.2383, -0.1144,  0.0186, -0.2021,  0.1442,  0.1145,  0.0530, -0.0727,\n",
              "                       -0.3410,  0.0611, -0.0268,  0.0362, -0.1495, -0.0239,  0.2010,  0.6615,\n",
              "                        0.1207, -0.1848, -0.2148,  0.7127, -0.1051, -0.6672, -0.1037, -0.1009,\n",
              "                        0.4119, -0.4232, -0.0326,  0.0114, -0.3794,  0.2758,  0.1657, -0.0570]])),\n",
              "             ('linear3.bias',\n",
              "              tensor([-0.0844, -0.2476, -0.1915, -0.0347, -0.2770,  0.9016,  0.3714,  0.0544,\n",
              "                      -0.0802, -0.4775]))])"
            ]
          },
          "metadata": {
            "tags": []
          },
          "execution_count": 35
        }
      ]
    },
    {
      "cell_type": "code",
      "metadata": {
        "id": "o5LxfgKyDoBp",
        "colab_type": "code",
        "colab": {}
      },
      "source": [
        ""
      ],
      "execution_count": 0,
      "outputs": []
    }
  ]
}