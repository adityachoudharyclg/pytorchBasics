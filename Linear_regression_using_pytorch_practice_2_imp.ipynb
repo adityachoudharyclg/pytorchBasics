{
  "nbformat": 4,
  "nbformat_minor": 0,
  "metadata": {
    "colab": {
      "name": "Linear regression using pytorch practice 2_imp",
      "provenance": [],
      "collapsed_sections": [],
      "authorship_tag": "ABX9TyNr2n+ANgaTCc9JW+ppVY8/",
      "include_colab_link": true
    },
    "kernelspec": {
      "name": "python3",
      "display_name": "Python 3"
    }
  },
  "cells": [
    {
      "cell_type": "markdown",
      "metadata": {
        "id": "view-in-github",
        "colab_type": "text"
      },
      "source": [
        "<a href=\"https://colab.research.google.com/github/adityachoudharyclg/pytorchBasics/blob/master/Linear_regression_using_pytorch_practice_2_imp.ipynb\" target=\"_parent\"><img src=\"https://colab.research.google.com/assets/colab-badge.svg\" alt=\"Open In Colab\"/></a>"
      ]
    },
    {
      "cell_type": "code",
      "metadata": {
        "id": "SisLxYLanHfD",
        "colab_type": "code",
        "colab": {}
      },
      "source": [
        "from sklearn.datasets import load_boston,load_diabetes\n",
        "import torch\n",
        "import torch.nn as nn\n",
        "from torch.utils.data import TensorDataset\n",
        "from torch.utils.data import DataLoader\n",
        "import torch.nn.functional as F\n",
        "import numpy as np\n",
        "import matplotlib.pyplot as plt\n"
      ],
      "execution_count": 0,
      "outputs": []
    },
    {
      "cell_type": "code",
      "metadata": {
        "id": "z4ZT_QFZnSEL",
        "colab_type": "code",
        "colab": {}
      },
      "source": [
        "class LinearRegression:\n",
        "  def __init__(self,data,learning_rate=1e-7,num_epochs=1000):\n",
        "    self.data=data\n",
        "    self.inputs=None\n",
        "    self.targets=None\n",
        "    self.learning_rate=learning_rate\n",
        "    self.errors=[]\n",
        "    self.weights=None\n",
        "    self.bias=None\n",
        "    self.num_epochs=num_epochs\n",
        "    self.dataPreprocessing()\n",
        "  \n",
        "  def dataPreprocessing(self,batch_size=50):\n",
        "    self.inputs,self.targets=self.data\n",
        "    if len(self.targets.shape)<=1:\n",
        "      self.targets=self.targets.reshape((self.targets.shape[0],1))\n",
        "    self.inputs=torch.from_numpy(self.inputs)\n",
        "    self.targets=torch.from_numpy(self.targets)\n",
        "    self.train_ds=TensorDataset(self.inputs,self.targets)\n",
        "    self.train_dl=DataLoader(self.train_ds,batch_size=batch_size,shuffle=True)\n",
        "    # for xb, yb in self.train_dl:\n",
        "    #   print(xb)\n",
        "    #   print(yb)\n",
        "    #   break\n",
        "\n",
        "  def modelInit(self):\n",
        "    self.model=nn.Linear(self.inputs.shape[1],self.targets.shape[1])\n",
        "    self.weights=model.weights\n",
        "    self.bias=model.bias\n",
        "  \n",
        "  def predictions(self):\n",
        "    self.preds=self.model(self.inputs.float())\n",
        "    return self.preds\n",
        "  \n",
        "  def lossFunc(self):\n",
        "    self.loss_func=F.mse_loss\n",
        "    loss=self.loss_func(self.predictions(),self.targets.float())\n",
        "    return loss\n",
        "  \n",
        "  def optimizer(self):\n",
        "    self.opt=torch.optim.SGD(self.model.parameters(), lr=self.learning_rate)\n",
        "\n",
        "  def fit(self):\n",
        "    self.modelInit()\n",
        "    self.optimizer()\n",
        "    # Repeat for given number of epochs\n",
        "    for epoch in range(self.num_epochs):\n",
        "        \n",
        "        # Train with batches of data\n",
        "        for xb,yb in self.train_dl:\n",
        "            \n",
        "            # 1. Generate predictions\n",
        "            pred = self.predictions()\n",
        "            \n",
        "            # 2. Calculate loss\n",
        "            loss = self.lossFunc()\n",
        "            \n",
        "            # 3. Compute gradients\n",
        "            loss.backward()\n",
        "            \n",
        "            # 4. Update parameters using gradients\n",
        "            self.opt.step()\n",
        "            \n",
        "            # 5. Reset the gradients to zero\n",
        "            self.opt.zero_grad()\n",
        "        \n",
        "        # Print the progress\n",
        "        self.errors.append(loss.item())\n",
        "        if (epoch+1) % 100 == 0:\n",
        "            print('Epoch [{}/{}], Loss: {:.4f}'.format(epoch+1, self.num_epochs, loss.item()))\n",
        "  \n",
        "  def plotError(self):\n",
        "    plt.plot(self.errors)\n",
        "    plt.show()\n",
        "\n",
        "  def saveModel(self):\n",
        "    torch.save(self.model.state_dict(), 'model.ckpt')\n",
        "  "
      ],
      "execution_count": 0,
      "outputs": []
    },
    {
      "cell_type": "code",
      "metadata": {
        "id": "nMMG2WERrnn5",
        "colab_type": "code",
        "colab": {
          "base_uri": "https://localhost:8080/",
          "height": 433
        },
        "outputId": "b387a5c5-16e3-4951-8ca2-30ec176d1b6c"
      },
      "source": [
        "model=LinearRegression(load_boston(return_X_y=True))\n",
        "model.fit()\n",
        "model.plotError()"
      ],
      "execution_count": 69,
      "outputs": [
        {
          "output_type": "stream",
          "text": [
            "Epoch [100/1000], Loss: 94.7276\n",
            "Epoch [200/1000], Loss: 93.3852\n",
            "Epoch [300/1000], Loss: 92.1522\n",
            "Epoch [400/1000], Loss: 91.0127\n",
            "Epoch [500/1000], Loss: 89.9552\n",
            "Epoch [600/1000], Loss: 88.9700\n",
            "Epoch [700/1000], Loss: 88.0488\n",
            "Epoch [800/1000], Loss: 87.1839\n",
            "Epoch [900/1000], Loss: 86.3692\n",
            "Epoch [1000/1000], Loss: 85.5988\n"
          ],
          "name": "stdout"
        },
        {
          "output_type": "display_data",
          "data": {
            "image/png": "[encoded data removed]",
            "text/plain": [
              "<Figure size 432x288 with 1 Axes>"
            ]
          },
          "metadata": {
            "tags": [],
            "needs_background": "light"
          }
        }
      ]
    },
    {
      "cell_type": "code",
      "metadata": {
        "id": "smjqj5mmrM8u",
        "colab_type": "code",
        "colab": {
          "base_uri": "https://localhost:8080/",
          "height": 1000
        },
        "outputId": "0d9aa03c-389e-40ea-dac0-d124e8e1be9c"
      },
      "source": [
        "model=LinearRegression(load_diabetes(return_X_y=True),learning_rate=1e-3,num_epochs=5000)\n",
        "model.fit()\n",
        "model.plotError()"
      ],
      "execution_count": 70,
      "outputs": [
        {
          "output_type": "stream",
          "text": [
            "Epoch [100/5000], Loss: 6494.7573\n",
            "Epoch [200/5000], Loss: 5811.3276\n",
            "Epoch [300/5000], Loss: 5729.0293\n",
            "Epoch [400/5000], Loss: 5664.9189\n",
            "Epoch [500/5000], Loss: 5603.0688\n",
            "Epoch [600/5000], Loss: 5542.9878\n",
            "Epoch [700/5000], Loss: 5484.6147\n",
            "Epoch [800/5000], Loss: 5427.8926\n",
            "Epoch [900/5000], Loss: 5372.7715\n",
            "Epoch [1000/5000], Loss: 5319.2002\n",
            "Epoch [1100/5000], Loss: 5267.1313\n",
            "Epoch [1200/5000], Loss: 5216.5220\n",
            "Epoch [1300/5000], Loss: 5167.3237\n",
            "Epoch [1400/5000], Loss: 5119.4893\n",
            "Epoch [1500/5000], Loss: 5072.9858\n",
            "Epoch [1600/5000], Loss: 5027.7637\n",
            "Epoch [1700/5000], Loss: 4983.7881\n",
            "Epoch [1800/5000], Loss: 4941.0200\n",
            "Epoch [1900/5000], Loss: 4899.4224\n",
            "Epoch [2000/5000], Loss: 4858.9575\n",
            "Epoch [2100/5000], Loss: 4819.5923\n",
            "Epoch [2200/5000], Loss: 4781.2925\n",
            "Epoch [2300/5000], Loss: 4744.0283\n",
            "Epoch [2400/5000], Loss: 4707.7637\n",
            "Epoch [2500/5000], Loss: 4672.4702\n",
            "Epoch [2600/5000], Loss: 4638.1182\n",
            "Epoch [2700/5000], Loss: 4604.6807\n",
            "Epoch [2800/5000], Loss: 4572.1270\n",
            "Epoch [2900/5000], Loss: 4540.4307\n",
            "Epoch [3000/5000], Loss: 4509.5688\n",
            "Epoch [3100/5000], Loss: 4479.5117\n",
            "Epoch [3200/5000], Loss: 4450.2402\n",
            "Epoch [3300/5000], Loss: 4421.7256\n",
            "Epoch [3400/5000], Loss: 4393.9473\n",
            "Epoch [3500/5000], Loss: 4366.8848\n",
            "Epoch [3600/5000], Loss: 4340.5137\n",
            "Epoch [3700/5000], Loss: 4314.8154\n",
            "Epoch [3800/5000], Loss: 4289.7686\n",
            "Epoch [3900/5000], Loss: 4265.3530\n",
            "Epoch [4000/5000], Loss: 4241.5508\n",
            "Epoch [4100/5000], Loss: 4218.3452\n",
            "Epoch [4200/5000], Loss: 4195.7188\n",
            "Epoch [4300/5000], Loss: 4173.6479\n",
            "Epoch [4400/5000], Loss: 4152.1250\n",
            "Epoch [4500/5000], Loss: 4131.1294\n",
            "Epoch [4600/5000], Loss: 4110.6450\n",
            "Epoch [4700/5000], Loss: 4090.6560\n",
            "Epoch [4800/5000], Loss: 4071.1528\n",
            "Epoch [4900/5000], Loss: 4052.1150\n",
            "Epoch [5000/5000], Loss: 4033.5352\n"
          ],
          "name": "stdout"
        },
        {
          "output_type": "display_data",
          "data": {
            "image/png": "[encoded data removed]",
            "text/plain": [
              "<Figure size 432x288 with 1 Axes>"
            ]
          },
          "metadata": {
            "tags": [],
            "needs_background": "light"
          }
        }
      ]
    },
    {
      "cell_type": "code",
      "metadata": {
        "id": "6M9pim-wzUST",
        "colab_type": "code",
        "colab": {
          "base_uri": "https://localhost:8080/",
          "height": 34
        },
        "outputId": "8d67bb6f-aa47-4bfb-d9d7-57de061ca52f"
      },
      "source": [
        "model.targets.shape"
      ],
      "execution_count": 71,
      "outputs": [
        {
          "output_type": "execute_result",
          "data": {
            "text/plain": [
              "torch.Size([442, 1])"
            ]
          },
          "metadata": {
            "tags": []
          },
          "execution_count": 71
        }
      ]
    },
    {
      "cell_type": "code",
      "metadata": {
        "id": "B2fAYMxn0Zs-",
        "colab_type": "code",
        "colab": {
          "base_uri": "https://localhost:8080/",
          "height": 34
        },
        "outputId": "4a1cee78-abce-4d6d-96e5-5301a98c0568"
      },
      "source": [
        "!ls"
      ],
      "execution_count": 72,
      "outputs": [
        {
          "output_type": "stream",
          "text": [
            "sample_data\n"
          ],
          "name": "stdout"
        }
      ]
    },
    {
      "cell_type": "code",
      "metadata": {
        "id": "r4QQjoXa4zbP",
        "colab_type": "code",
        "colab": {}
      },
      "source": [
        "model.saveModel()"
      ],
      "execution_count": 0,
      "outputs": []
    },
    {
      "cell_type": "code",
      "metadata": {
        "id": "4tG03o5U42Se",
        "colab_type": "code",
        "colab": {
          "base_uri": "https://localhost:8080/",
          "height": 34
        },
        "outputId": "e911376d-4684-40e1-f2c3-3ea37954f761"
      },
      "source": [
        "!ls"
      ],
      "execution_count": 74,
      "outputs": [
        {
          "output_type": "stream",
          "text": [
            "model.ckpt  sample_data\n"
          ],
          "name": "stdout"
        }
      ]
    },
    {
      "cell_type": "code",
      "metadata": {
        "id": "zWuwHR754-4W",
        "colab_type": "code",
        "colab": {}
      },
      "source": [
        "from google.colab import files\n",
        "files.download('model.ckpt')"
      ],
      "execution_count": 0,
      "outputs": []
    },
    {
      "cell_type": "code",
      "metadata": {
        "id": "08yF-wxp5Myj",
        "colab_type": "code",
        "colab": {}
      },
      "source": [
        ""
      ],
      "execution_count": 0,
      "outputs": []
    }
  ]
}